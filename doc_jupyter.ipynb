{
 "cells": [
  {
   "cell_type": "code",
   "execution_count": null,
   "metadata": {},
   "outputs": [],
   "source": [
    "import pandas as pd\n",
    "import matplotlib.pyplot as plt\n",
    "import numpy as np"
   ]
  },
  {
   "cell_type": "code",
   "execution_count": null,
   "metadata": {},
   "outputs": [],
   "source": [
    "trainset1=pd.read_excel('suivi-2018-entente-global-cadre-1mai2019.xlsx',axis=1)\n",
    "trainset1['Date']=pd.to_datetime(trainset1['Date'], )\n",
    "trainset1=trainset1.set_index('Date')[:-1]\n",
    "trainset1"
   ]
  }
 ],
 "metadata": {
  "language_info": {
   "name": "python"
  }
 },
 "nbformat": 4,
 "nbformat_minor": 2
}
